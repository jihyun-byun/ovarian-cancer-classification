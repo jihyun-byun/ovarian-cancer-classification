{
 "cells": [
  {
   "cell_type": "code",
   "execution_count": 4,
   "metadata": {},
   "outputs": [],
   "source": [
    "import os\n",
    "import ipynb\n",
    "import warnings\n",
    "\n",
    "import numpy as np\n",
    "import pandas as pd\n",
    "import seaborn as sns\n",
    "\n",
    "import statistics\n",
    "from scipy.stats import loguniform\n",
    "\n",
    "from matplotlib import pyplot as plt\n",
    "from matplotlib.ticker import MaxNLocator\n",
    "\n",
    "from sklearn.preprocessing import StandardScaler\n",
    "from sklearn.pipeline import Pipeline\n",
    "\n",
    "from sklearn.model_selection import train_test_split, RepeatedStratifiedKFold\n",
    "from sklearn.neighbors import KNeighborsClassifier\n",
    "\n",
    "from sklearn.feature_selection import SequentialFeatureSelector\n",
    "from sklearn.utils._testing import ignore_warnings \n",
    "from sklearn.metrics import classification_report\n",
    "\n",
    "from ipynb.fs.full.preprocessing import preprocessing #import preprocessing class from preprocessing.ipynb\n",
    "from ipynb.fs.full.accuracy_plots import cumulative_accuracy_plot #import fx from accuracy_plots.ipynb\n",
    "from ipynb.fs.full.accuracy_plots import accuracy_by_nfeatures #import fx from accuracy_plots.ipynb"
   ]
  },
  {
   "cell_type": "code",
   "execution_count": 5,
   "metadata": {},
   "outputs": [],
   "source": [
    "#Restore saved dataframes from 00_EDA.ipynb\n",
    "%store -r dwt_8 wang_8 jones_8\n",
    "dwt_8 = dwt_8\n",
    "wang_8 = wang_8\n",
    "jones_8 = jones_8\n",
    "\n",
    "%store -r dwt_topten_8 wang_topten_8 jones_topten_8\n",
    "dwt_topten_8 = dwt_topten_8\n",
    "wang_topten_8 = wang_topten_8\n",
    "jones_topten_8 = jones_topten_8\n",
    "\n",
    "%store -r dwt_4 wang_4 jones_4\n",
    "dwt_4 = dwt_4\n",
    "wang_4 = wang_4\n",
    "jones_4 = jones_4\n",
    "\n",
    "%store -r dwt_topten_4 wang_topten_4 jones_topten_4\n",
    "dwt_topten_4 = dwt_topten_4\n",
    "wang_topten_4 = wang_topten_4\n",
    "jones_topten_4 = jones_topten_4\n"
   ]
  },
  {
   "cell_type": "code",
   "execution_count": 6,
   "metadata": {},
   "outputs": [],
   "source": [
    "def knn(df, n_iter=1000, balanced=False):\n",
    "\n",
    "    eval_metrics = { #empty dictionary to store classification report\n",
    "        '0_precision': [],\n",
    "        '0_recall': [],\n",
    "        '0_f1-score': [],\n",
    "        '0_support': [],\n",
    "\n",
    "        '1_precision': [],\n",
    "        '1_recall': [],\n",
    "        '1_f1-score': [],\n",
    "        '1_support': [],\n",
    "        \n",
    "        'accuracy': [],\n",
    "        'accuracy_train': [],\n",
    "    }\n",
    "\n",
    "    for i in range(n_iter): \n",
    "\n",
    "        if(balanced == False):\n",
    "\n",
    "            subset_0 = df[df['state'] == 0]\n",
    "            subset_1 = df[df['state'] == 1]\n",
    "\n",
    "            subset_1 = subset_1.sample(n=91) #randomly sample cases to match number of controls\n",
    "            df = pd.concat([subset_0, subset_1])\n",
    "                     \n",
    "        x = df.loc[:, df.columns != 'state'] #features\n",
    "        y = df.loc[:, df.columns == 'state'] #supervisor\n",
    "\n",
    "        x_train, x_test, y_train, y_test = train_test_split(x, y, train_size=0.67)\n",
    "\n",
    "        scaler = StandardScaler()    \n",
    "        scaler.fit(x_train)\n",
    "        x_train = scaler.transform(x_train)\n",
    "        x_test = scaler.transform(x_test)\n",
    "\n",
    "        knn_model = KNeighborsClassifier()\n",
    "        knn_model.fit(x_train, y_train.values.ravel())\n",
    "        \n",
    "        y_pred = knn_model.predict(x_test)\n",
    "        report = classification_report(y_test, y_pred, output_dict=True)\n",
    "\n",
    "        y_pred_train = knn_model.predict(x_train)\n",
    "        report_train = classification_report(y_train, y_pred_train, output_dict=True)\n",
    "\n",
    "        eval_metrics['0_precision'].append(report['0']['precision']) #store classification_report values in dictionary\n",
    "        eval_metrics['0_recall'].append(report['0']['recall'])\n",
    "        eval_metrics['0_f1-score'].append(report['0']['f1-score'])\n",
    "        eval_metrics['0_support'].append(report['0']['support'])\n",
    "\n",
    "        eval_metrics['1_precision'].append(report['1']['precision'])\n",
    "        eval_metrics['1_recall'].append(report['1']['recall'])\n",
    "        eval_metrics['1_f1-score'].append(report['1']['f1-score'])\n",
    "        eval_metrics['1_support'].append(report['1']['support'])\n",
    "\n",
    "        eval_metrics['accuracy'].append(report['accuracy'])\n",
    "        eval_metrics['accuracy_train'].append(report_train['accuracy'])\n",
    "\n",
    "    eval_metrics_df = pd.DataFrame.from_dict(eval_metrics) #convert dictionary to dataframe\n",
    "\n",
    "    return eval_metrics_df"
   ]
  },
  {
   "cell_type": "code",
   "execution_count": 12,
   "metadata": {},
   "outputs": [
    {
     "name": "stdout",
     "output_type": "stream",
     "text": [
      "DWT Method Accuracy  0.9205\n",
      "Wang Method Accuracy  0.9444\n",
      "Jones Method Accuracy  0.8119\n"
     ]
    }
   ],
   "source": [
    "acc_dwt_8 = knn(dwt_topten_8, n_iter=10000)\n",
    "acc_wang_8 = knn(wang_topten_8, n_iter=10000)\n",
    "acc_jones_8 = knn(jones_topten_8, n_iter=10000)\n",
    "\n",
    "print('DWT Method Accuracy ', round(acc_dwt_8['accuracy'].mean(), 4))\n",
    "print('Wang Method Accuracy ', round(acc_wang_8['accuracy'].mean(), 4))\n",
    "print('Jones Method Accuracy ', round(acc_jones_8['accuracy'].mean(), 4))"
   ]
  },
  {
   "cell_type": "code",
   "execution_count": 13,
   "metadata": {},
   "outputs": [
    {
     "name": "stdout",
     "output_type": "stream",
     "text": [
      "DWT Method Accuracy  0.8248\n",
      "Wang Method Accuracy  0.8012\n",
      "Jones Method Accuracy  0.7905\n"
     ]
    }
   ],
   "source": [
    "acc_dwt_4 = knn(dwt_topten_4, n_iter=10000, balanced=True)\n",
    "acc_wang_4 = knn(wang_topten_4, n_iter=10000, balanced=True)\n",
    "acc_jones_4 = knn(jones_topten_4, n_iter=10000, balanced=True)\n",
    "\n",
    "print('DWT Method Accuracy ', round(acc_dwt_4['accuracy'].mean(), 4))\n",
    "print('Wang Method Accuracy ', round(acc_wang_4['accuracy'].mean(), 4))\n",
    "print('Jones Method Accuracy ', round(acc_jones_4['accuracy'].mean(), 4))"
   ]
  }
 ],
 "metadata": {
  "kernelspec": {
   "display_name": ".venv",
   "language": "python",
   "name": "python3"
  },
  "language_info": {
   "codemirror_mode": {
    "name": "ipython",
    "version": 3
   },
   "file_extension": ".py",
   "mimetype": "text/x-python",
   "name": "python",
   "nbconvert_exporter": "python",
   "pygments_lexer": "ipython3",
   "version": "3.9.6"
  },
  "orig_nbformat": 4
 },
 "nbformat": 4,
 "nbformat_minor": 2
}
