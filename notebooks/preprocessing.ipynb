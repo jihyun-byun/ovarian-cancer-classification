{
 "cells": [
  {
   "cell_type": "code",
   "execution_count": 1,
   "metadata": {},
   "outputs": [],
   "source": [
    "import os\n",
    "import pandas as pd"
   ]
  },
  {
   "cell_type": "code",
   "execution_count": 2,
   "metadata": {},
   "outputs": [],
   "source": [
    "class preprocessing:\n",
    "    \n",
    "    def __init__(self, file_path): #read in csv file\n",
    "        #dir = '/Users/jhbyun/Documents/685-Pr/ovarian-cancer-detection/', \n",
    "        #file_path = dir + file + '.csv'\n",
    "        self.df = pd.read_csv(file_path, header=None) \n",
    "    \n",
    "    def label_df(self):\n",
    "        col_names = [] #initialize empty list\n",
    "        \n",
    "        for index, value in enumerate(self.df.columns): #loop through number of columns in df\n",
    "            col_name = \"slope_\" + str(index+1) #concat string with index\n",
    "            col_names.append(col_name) #add value to blank list\n",
    "        col_names.pop() #remove last element\n",
    "        col_names.append(\"state\") #add \"state\" to list\n",
    "\n",
    "        self.df.columns = col_names #set column names to slope_1, slope_2, ..., slope_29, state\n",
    "\n",
    "        return self.df\n",
    "\n",
    "\n",
    "    def fishers(self, top_n=5): #filter features by Fisher's criterion\n",
    "        col_names = self.df.columns \n",
    "        df_long = pd.melt(self.df, id_vars=['state'], value_vars=col_names)\n",
    "        df_mean = df_long.groupby(['state', 'variable'], as_index=False).mean() #mean for each window, grouped by state (0 or 1)\n",
    "        df_stdev = df_long.groupby(['state', 'variable'], as_index=False).std() #stdev for each window, grouped by state (0 or 1)\n",
    "\n",
    "        df_summary = pd.merge(df_mean, df_stdev, how='inner', on=['state', 'variable']) #join mean and stdev\n",
    "        df_summary.columns = ['state', 'slope', 'mean', 'stdev'] #rename columns\n",
    "        df_summary = pd.pivot(df_summary, columns='state', index='slope', values=['mean', 'stdev']) #pivot wider on state\n",
    "        df_summary.columns = ['mean_0', 'mean_1', 'stdev_0', 'stdev_1'] #0 for controls, 1 for cases\n",
    "        df_summary['fishers'] = ((df_summary['mean_1'] - df_summary['mean_0'])**2) / ((df_summary['stdev_1']**2 + df_summary['stdev_0']**2) )#calculate Fisher's criterion for each window\n",
    "        df_summary = df_summary.sort_values(by='fishers', ascending=False) #sort descending by Fisher's criterion\n",
    "        df_summary.reset_index(inplace=True)\n",
    "\n",
    "        sel_windows = df_summary.head(n=top_n)['slope'].to_list() #list of n windows with highest Fisher's criterion values, default = 5\n",
    "        sel_windows.append('state') #add 'state' to list\n",
    "        df_fishers = self.df[sel_windows] #subset original dataframe with n windows with highest Fisher's criterion values + state\n",
    "\n",
    "        return df_fishers"
   ]
  }
 ],
 "metadata": {
  "kernelspec": {
   "display_name": "Python 3",
   "language": "python",
   "name": "python3"
  },
  "language_info": {
   "codemirror_mode": {
    "name": "ipython",
    "version": 3
   },
   "file_extension": ".py",
   "mimetype": "text/x-python",
   "name": "python",
   "nbconvert_exporter": "python",
   "pygments_lexer": "ipython3",
   "version": "3.9.6"
  },
  "orig_nbformat": 4
 },
 "nbformat": 4,
 "nbformat_minor": 2
}
