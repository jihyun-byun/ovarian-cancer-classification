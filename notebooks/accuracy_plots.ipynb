{
 "cells": [
  {
   "cell_type": "code",
   "execution_count": 9,
   "metadata": {},
   "outputs": [],
   "source": [
    "import pandas as pd\n",
    "import seaborn as sns\n",
    "import matplotlib.pyplot as plt\n",
    "\n",
    "import statistics"
   ]
  },
  {
   "cell_type": "code",
   "execution_count": 10,
   "metadata": {},
   "outputs": [],
   "source": [
    "def cumulative_accuracy_plot(classifier_name, df, df_name, method=''):\n",
    "\n",
    "    df['cml_accuracy'] = df['accuracy'].expanding().mean() #cumulative mean accuracy\n",
    "\n",
    "    acc_fig, acc_ax = plt.subplots()\n",
    "    sns.scatterplot(data=df, x=df.index, y='accuracy', marker='.', ax=acc_ax, label='Accuracy', alpha=0.5)\n",
    "    sns.lineplot(data=df, x=df.index, y='cml_accuracy', ax=acc_ax, label='Cumulative Mean Accuracy')\n",
    "\n",
    "    acc_ax.set_title(classifier_name + ' for ' + df_name)\n",
    "    acc_ax.set_ylabel('Accuracy')\n",
    "    acc_ax.set_xlabel(\"nth Sampling Iteration\")\n",
    "\n",
    "    return acc_fig, acc_ax"
   ]
  },
  {
   "cell_type": "code",
   "execution_count": 1,
   "metadata": {},
   "outputs": [],
   "source": [
    "def accuracy_by_nfeatures(class_instance, file_name, classifier, n_features=29, n_iter=1000): \n",
    "    \n",
    "    acc_metrics = {} #empty dictionary to store accuracy metrics\n",
    "\n",
    "    for i in range(1, n_features+1): #range of fisher's criterion values / # of features, inclusive\n",
    "           \n",
    "        df = class_instance.fishers(top_n=i) #class instance applied to create df with top n features for every for loop iteration\n",
    "\n",
    "        eval_metrics_df = classifier(df=df, n_iter=n_iter)\n",
    "    \n",
    "        acc = eval_metrics_df['accuracy']\n",
    "        acc_train = eval_metrics_df['accuracy_train']\n",
    "\n",
    "        mean = statistics.mean(acc)\n",
    "        stdev = statistics.stdev(acc)\n",
    "\n",
    "        mean_train = statistics.mean(acc_train)\n",
    "        stdev_train = statistics.stdev(acc_train)\n",
    "        acc_metrics[str(i)] =list([i, file_name, mean, stdev, mean_train, stdev_train]) #store list in dictionary\n",
    "\n",
    "    acc_metrics = pd.DataFrame.from_dict(acc_metrics) \n",
    "    acc_metrics = acc_metrics.T\n",
    "    acc_metrics.columns = ['n_features', 'file_name', 'mean', 'stdev', 'mean_train', 'stdev_train']\n",
    "    acc_metrics\n",
    "\n",
    "    return acc_metrics"
   ]
  }
 ],
 "metadata": {
  "kernelspec": {
   "display_name": ".venv",
   "language": "python",
   "name": "python3"
  },
  "language_info": {
   "codemirror_mode": {
    "name": "ipython",
    "version": 3
   },
   "file_extension": ".py",
   "mimetype": "text/x-python",
   "name": "python",
   "nbconvert_exporter": "python",
   "pygments_lexer": "ipython3",
   "version": "3.9.6"
  },
  "orig_nbformat": 4
 },
 "nbformat": 4,
 "nbformat_minor": 2
}
